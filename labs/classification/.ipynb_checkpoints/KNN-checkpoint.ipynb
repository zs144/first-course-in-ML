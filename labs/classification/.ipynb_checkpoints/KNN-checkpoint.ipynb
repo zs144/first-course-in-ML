{
 "cells": [
  {
   "cell_type": "markdown",
   "metadata": {},
   "source": [
    "Classification with K-Nearest Neighbours\n",
    "----"
   ]
  },
  {
   "cell_type": "markdown",
   "metadata": {},
   "source": [
    "Generate some training and testing data"
   ]
  },
  {
   "cell_type": "code",
   "execution_count": 14,
   "metadata": {
    "collapsed": false
   },
   "outputs": [
    {
     "data": {
      "image/png": "[encoded data removed]",
      "text/plain": [
       "<matplotlib.figure.Figure at 0x1081f7c10>"
      ]
     },
     "metadata": {},
     "output_type": "display_data"
    }
   ],
   "source": [
    "import numpy as np\n",
    "import pylab as plt\n",
    "%matplotlib inline\n",
    "N = 100\n",
    "D = 2\n",
    "\n",
    "x1 = np.random.multivariate_normal([0,0],[[1,0],[0,1]],50)\n",
    "x2 = np.random.multivariate_normal([2,2],[[1,0],[0,1]],50)\n",
    "x = np.vstack((x1,x2))\n",
    "\n",
    "plt.figure()\n",
    "plt.plot(x1[:,0],x1[:,1],'ro')\n",
    "plt.plot(x2[:,0],x2[:,1],'bo')\n",
    "\n",
    "x1test = np.random.multivariate_normal([0,0],[[1,0],[0,1]],200)\n",
    "x2test = np.random.multivariate_normal([2,2],[[1,0],[0,1]],200)\n",
    "\n",
    "testx = np.vstack((x1test,x2test))\n",
    "\n",
    "np.savetxt('trainx.csv',x,delimiter=',')\n",
    "np.savetxt('testx.csv',testx,delimiter=',')\n",
    "\n",
    "traint = np.hstack((np.zeros((50,)),np.ones((50,))))\n",
    "testt = np.hstack((np.zeros((200,)),np.ones((200,))))\n"
   ]
  },
  {
   "cell_type": "markdown",
   "metadata": {},
   "source": [
    "The following function computes the predicted class for a single test point. It computes the distance between the test point and all of the training points. These distances are then put into tuples with their class and the list of tuples is sorted by distance. The classes of the closest points are then used to vote for class 0 or 1"
   ]
  },
  {
   "cell_type": "code",
   "execution_count": 21,
   "metadata": {
    "collapsed": false
   },
   "outputs": [],
   "source": [
    "def KNN_predict(X,t,testx,K):\n",
    "    di = []\n",
    "    for i,x in enumerate(X):\n",
    "        dis = ((x-testx)**2).sum()\n",
    "        di.append((dis,t[i]))\n",
    "    di = sorted(di,key=lambda di:di[0])\n",
    "    vote0 = 0\n",
    "    vote1 = 0\n",
    "    for k in range(K):\n",
    "        if di[k][1] == 0:\n",
    "            vote0 += 1\n",
    "        else:\n",
    "            vote1 += 1\n",
    "    if vote0 >= vote1:\n",
    "        return 0\n",
    "    else:\n",
    "        return 1\n"
   ]
  },
  {
   "cell_type": "markdown",
   "metadata": {},
   "source": [
    "Look over different values of $K$ and compute the accuracy of the classifier"
   ]
  },
  {
   "cell_type": "code",
   "execution_count": 31,
   "metadata": {
    "collapsed": false
   },
   "outputs": [],
   "source": [
    "max_k = 50\n",
    "accuracy = np.zeros((max_k,))\n",
    "for k in range(max_k):\n",
    "    test_predict = np.zeros((400,))\n",
    "    for i,tx in enumerate(testx):\n",
    "        test_predict[i] = KNN_predict(x,traint,tx,k)\n",
    "\n",
    "    accuracy[k] = (test_predict == testt).mean()\n",
    "\n"
   ]
  },
  {
   "cell_type": "markdown",
   "metadata": {},
   "source": [
    "Plot the accuracy as a function of $K$"
   ]
  },
  {
   "cell_type": "code",
   "execution_count": 32,
   "metadata": {
    "collapsed": false
   },
   "outputs": [
    {
     "data": {
      "text/plain": [
       "[<matplotlib.lines.Line2D at 0x108dc69d0>]"
      ]
     },
     "execution_count": 32,
     "metadata": {},
     "output_type": "execute_result"
    },
    {
     "data": {
      "image/png": "[encoded data removed]",
      "text/plain": [
       "<matplotlib.figure.Figure at 0x1088f5f50>"
      ]
     },
     "metadata": {},
     "output_type": "display_data"
    }
   ],
   "source": [
    "plt.figure()\n",
    "plt.plot(range(max_k),accuracy)"
   ]
  },
  {
   "cell_type": "code",
   "execution_count": null,
   "metadata": {
    "collapsed": true
   },
   "outputs": [],
   "source": []
  }
 ],
 "metadata": {
  "kernelspec": {
   "display_name": "Python 2",
   "language": "python",
   "name": "python2"
  },
  "language_info": {
   "codemirror_mode": {
    "name": "ipython",
    "version": 2
   },
   "file_extension": ".py",
   "mimetype": "text/x-python",
   "name": "python",
   "nbconvert_exporter": "python",
   "pygments_lexer": "ipython2",
   "version": "2.7.11"
  }
 },
 "nbformat": 4,
 "nbformat_minor": 0
}
