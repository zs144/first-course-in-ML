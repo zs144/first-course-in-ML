{
 "cells": [
  {
   "cell_type": "markdown",
   "metadata": {},
   "source": [
    "Worked solution to linear regression lab 1\n",
    "---"
   ]
  },
  {
   "cell_type": "markdown",
   "metadata": {},
   "source": [
    "Step 1: load the data - I'll use numpy"
   ]
  },
  {
   "cell_type": "code",
   "execution_count": 2,
   "metadata": {
    "collapsed": false
   },
   "outputs": [],
   "source": [
    "import numpy as np\n",
    "in_data = np.loadtxt('data100m.csv',delimiter=',')\n",
    "x = in_data[:,0] # year\n",
    "t = in_data[:,1] # winning time"
   ]
  },
  {
   "cell_type": "markdown",
   "metadata": {},
   "source": [
    "Step 2: plot the data"
   ]
  },
  {
   "cell_type": "code",
   "execution_count": 3,
   "metadata": {
    "collapsed": true
   },
   "outputs": [],
   "source": [
    "import pylab as plt\n",
    "%matplotlib inline"
   ]
  },
  {
   "cell_type": "code",
   "execution_count": 4,
   "metadata": {
    "collapsed": false
   },
   "outputs": [
    {
     "data": {
      "text/plain": [
       "<matplotlib.text.Text at 0x10832f090>"
      ]
     },
     "execution_count": 4,
     "metadata": {},
     "output_type": "execute_result"
    },
    {
     "data": {
      "image/png": "[encoded data removed]",
      "text/plain": [
       "<matplotlib.figure.Figure at 0x1058c3150>"
      ]
     },
     "metadata": {},
     "output_type": "display_data"
    }
   ],
   "source": [
    "plt.plot(x,t,'ro')\n",
    "plt.xlabel('Olympic year')\n",
    "plt.ylabel('Winning time') # It's always a good idea to label the axes..."
   ]
  },
  {
   "cell_type": "markdown",
   "metadata": {},
   "source": [
    "Step 3: compute the necessary values for $w_0$ and $w_1$"
   ]
  },
  {
   "cell_type": "code",
   "execution_count": 5,
   "metadata": {
    "collapsed": false
   },
   "outputs": [],
   "source": [
    "xbar = x.mean()\n",
    "tbar = t.mean()\n",
    "xxbar = (x*x).mean()\n",
    "xtbar = (x*t).mean()\n",
    "\n",
    "w_1 = (xtbar - xbar*tbar)/(xxbar - xbar*xbar)\n",
    "w_0 = (t - w_1*x).mean()"
   ]
  },
  {
   "cell_type": "markdown",
   "metadata": {},
   "source": [
    "Step 4: make the new plot"
   ]
  },
  {
   "cell_type": "code",
   "execution_count": 6,
   "metadata": {
    "collapsed": false
   },
   "outputs": [
    {
     "data": {
      "text/plain": [
       "[<matplotlib.lines.Line2D at 0x10832af90>]"
      ]
     },
     "execution_count": 6,
     "metadata": {},
     "output_type": "execute_result"
    },
    {
     "data": {
      "image/png": "[encoded data removed]",
      "text/plain": [
       "<matplotlib.figure.Figure at 0x10833fc50>"
      ]
     },
     "metadata": {},
     "output_type": "display_data"
    }
   ],
   "source": [
    "plt.figure()\n",
    "plt.plot(x,t,'ro')\n",
    "plt.plot([x[0],x[-1]],[w_0 + w_1*x[0],w_0 + w_1*x[-1]],'b')"
   ]
  },
  {
   "cell_type": "markdown",
   "metadata": {
    "collapsed": true
   },
   "source": [
    "Step 5: quadratic!\n",
    "Derivation is theoretically easy but a pain as it involves solving a system of three simultaneous equations (we'll see how to make it easy next time). Probably the easiest way to do it is through gaussian elimination of the following matrix system (see e.g. [https://www.math.hmc.edu/calculus/tutorials/linearsystems/]()). The matrix system is obtained by differentiating with respect to $w_0$, $w_1$ and $w_2$."
   ]
  },
  {
   "cell_type": "markdown",
   "metadata": {},
   "source": [
    "$$ Aw = b $$\n",
    "\n",
    "where\n",
    "\n",
    "$$ A = \\left[ \\begin{array}{ccc} 1 & \\bar{x} & \\bar{x^2} \\\\\n",
    "                                \\bar{x} & \\bar{x^2} & \\bar{x^3} \\\\\n",
    "                                \\bar{x^2} & \\bar{x^3} & \\bar{x^4}\n",
    "               \\end{array}\\right] $$\n",
    "            \n",
    "$$ w = \\left[ \\begin{array}{c} w_0 \\\\ w_1 \\\\ w_2 \\end{array}\\right] $$\n",
    "\n",
    "and \n",
    "\n",
    "$$ b = \\left[ \\begin{array}{c} \\bar{t} \\\\ \\bar{xt} \\\\ \\bar{x^2t} \\end{array}\\right] $$\n",
    "\n",
    "and \n",
    "\n",
    "$$ \\bar{f} = \\frac{1}{N}\\sum_{n=1}^N f_n $$"
   ]
  },
  {
   "cell_type": "code",
   "execution_count": 20,
   "metadata": {
    "collapsed": false
   },
   "outputs": [],
   "source": [
    "tbar = t.mean()\n",
    "xbar = x.mean()\n",
    "x2bar = (x*x).mean()\n",
    "x3bar = (x*x*x).mean()\n",
    "x4bar = (x*x*x*x).mean()\n",
    "x2tbar = (x*x*t).mean()"
   ]
  },
  {
   "cell_type": "code",
   "execution_count": 21,
   "metadata": {
    "collapsed": false
   },
   "outputs": [
    {
     "name": "stdout",
     "output_type": "stream",
     "text": [
      "0.000110151552656\n",
      "-0.443160488183\n",
      "455.597858393\n"
     ]
    }
   ],
   "source": [
    "num = x2tbar - x2bar*tbar - (x3bar-x2bar*xbar)*(xtbar-xbar*tbar)/(x2bar-xbar*xbar)\n",
    "den = x4bar - x2bar*x2bar - (x3bar-x2bar*xbar)*(x3bar-x2bar*xbar)/(x2bar-xbar*xbar)\n",
    "w_2 = num/den\n",
    "print w_2\n",
    "w_1 = (xtbar-xbar*tbar)/(x2bar-xbar*xbar) - w_3*(x3bar-xbar*x2bar)/(x2bar-xbar*xbar)\n",
    "print w_1\n",
    "w_0 = tbar - w_1*xbar - w_2*x2bar\n",
    "print w_0"
   ]
  },
  {
   "cell_type": "markdown",
   "metadata": {},
   "source": [
    "Make the new plot..."
   ]
  },
  {
   "cell_type": "code",
   "execution_count": 24,
   "metadata": {
    "collapsed": false
   },
   "outputs": [
    {
     "data": {
      "text/plain": [
       "<matplotlib.text.Text at 0x108dc5890>"
      ]
     },
     "execution_count": 24,
     "metadata": {},
     "output_type": "execute_result"
    },
    {
     "data": {
      "image/png": "[encoded data removed]",
      "text/plain": [
       "<matplotlib.figure.Figure at 0x108afcf10>"
      ]
     },
     "metadata": {},
     "output_type": "display_data"
    }
   ],
   "source": [
    "plt.figure()\n",
    "xvals = np.linspace(x[0],x[-1],100)\n",
    "tvals = w_0 + w_1*xvals + w_2*xvals**2\n",
    "plt.plot(x,t,'ro')\n",
    "plt.plot(xvals,tvals,'b')\n",
    "plt.xlabel('Olympic year')\n",
    "plt.ylabel('Winning time')"
   ]
  },
  {
   "cell_type": "code",
   "execution_count": null,
   "metadata": {
    "collapsed": true
   },
   "outputs": [],
   "source": []
  }
 ],
 "metadata": {
  "kernelspec": {
   "display_name": "Python 2",
   "language": "python",
   "name": "python2"
  },
  "language_info": {
   "codemirror_mode": {
    "name": "ipython",
    "version": 2
   },
   "file_extension": ".py",
   "mimetype": "text/x-python",
   "name": "python",
   "nbconvert_exporter": "python",
   "pygments_lexer": "ipython2",
   "version": "2.7.11"
  }
 },
 "nbformat": 4,
 "nbformat_minor": 0
}
